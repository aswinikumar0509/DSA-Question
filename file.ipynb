{
 "cells": [
  {
   "cell_type": "code",
   "execution_count": null,
   "metadata": {},
   "outputs": [],
   "source": [
    "def jump_problem(arr):\n",
    "    n = len(arr)\n",
    "    i = 0\n",
    "    count = 0\n",
    "    while i in arr:\n",
    "        for j in range(i+1,n):\n",
    "            if(arr[i]<arr[j]):\n",
    "                count+=1\n",
    "                i+=1\n",
    "    return count+1\n",
    "\n",
    "arr = [3,1,4,2,5,3]\n",
    "n = len(arr)\n",
    "jump_problem(arr)"
   ]
  },
  {
   "cell_type": "code",
   "execution_count": null,
   "metadata": {},
   "outputs": [],
   "source": []
  }
 ],
 "metadata": {
  "language_info": {
   "name": "python"
  }
 },
 "nbformat": 4,
 "nbformat_minor": 2
}
